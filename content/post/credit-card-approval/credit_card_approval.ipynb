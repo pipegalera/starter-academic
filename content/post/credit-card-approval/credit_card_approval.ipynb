{
 "cells": [
  {
   "cell_type": "markdown",
   "metadata": {},
   "source": [
    "# Credit Card approval Prediction\n",
    "\n",
    "# Structure\n",
    "\n",
    "In the post I will go though the following steps:\n",
    "\n",
    "1. Loading the data.\n",
    "2. Cleaning it.\n",
    "3. Preprocessing.\n",
    "4. Basic data visualization.\n",
    "5. Modeling: Baseline Logistic Regression\n",
    "6. Modeling: GridSearchCV Logistic Regression\n",
    "\n",
    "### Context\n",
    "\n",
    "Credit score cards are a common risk control method in the financial industry. It uses personal information and data submitted by credit card applicants to predict the probability of future defaults and credit card borrowings. The bank is able to decide whether to issue a credit card to the applicant. Credit scores can objectively quantify the magnitude of risk.\n",
    "\n",
    "### Data\n",
    "\n",
    "<a href=\"http://archive.ics.uci.edu/ml/datasets/credit+approval\">Credit Card Approval dataset</a> from the UCI Machine Learning Repository. The features of this dataset have been anonymized to protect the privacy, even the labels, but they should resemble the *probable features* in a typical credit card application:\n",
    "\n",
    "- <code>Gender</code>\n",
    "- <code>Age</code>\n",
    "- <code>Debt</code>\n",
    "- <code>Married</code> \n",
    "- <code>BankCustomer</code>\n",
    "- <code>EducationLevel</code> \n",
    "- <code>Ethnicity</code>\n",
    "- <code>YearsEmployed</code> \n",
    "- <code>PriorDefault</code> \n",
    "- <code>Employed</code>\n",
    "- <code>CreditScore</code>\n",
    "- <code>DriversLicense</code> \n",
    "- <code>Citizen</code>\n",
    "- <code>ZipCode</code>\n",
    "- <code>Income</code>\n",
    "- <code>ApprovalStatus</code>\n",
    "\n",
    "### Task\n",
    "\n",
    "Build a machine learning model to predict the probability of an applicant to get the credit card based on their background.\n"
   ]
  },
  {
   "cell_type": "markdown",
   "metadata": {},
   "source": [
    "# 1. Loading the data"
   ]
  },
  {
   "cell_type": "code",
   "execution_count": 278,
   "metadata": {},
   "outputs": [],
   "source": [
    "import pandas as pd\n",
    "import numpy as np\n",
    "import pandas as pd \n",
    "\n",
    "import matplotlib.pyplot as plt\n",
    "import seaborn as sns"
   ]
  },
  {
   "cell_type": "code",
   "execution_count": 279,
   "metadata": {},
   "outputs": [
    {
     "name": "stdout",
     "output_type": "stream",
     "text": [
      "(690, 16)\n"
     ]
    },
    {
     "data": {
      "text/html": [
       "<div>\n",
       "<style scoped>\n",
       "    .dataframe tbody tr th:only-of-type {\n",
       "        vertical-align: middle;\n",
       "    }\n",
       "\n",
       "    .dataframe tbody tr th {\n",
       "        vertical-align: top;\n",
       "    }\n",
       "\n",
       "    .dataframe thead th {\n",
       "        text-align: right;\n",
       "    }\n",
       "</style>\n",
       "<table border=\"1\" class=\"dataframe\">\n",
       "  <thead>\n",
       "    <tr style=\"text-align: right;\">\n",
       "      <th></th>\n",
       "      <th>0</th>\n",
       "      <th>1</th>\n",
       "      <th>2</th>\n",
       "      <th>3</th>\n",
       "      <th>...</th>\n",
       "      <th>12</th>\n",
       "      <th>13</th>\n",
       "      <th>14</th>\n",
       "      <th>15</th>\n",
       "    </tr>\n",
       "  </thead>\n",
       "  <tbody>\n",
       "    <tr>\n",
       "      <td>0</td>\n",
       "      <td>b</td>\n",
       "      <td>30.83</td>\n",
       "      <td>0.000</td>\n",
       "      <td>u</td>\n",
       "      <td>...</td>\n",
       "      <td>g</td>\n",
       "      <td>00202</td>\n",
       "      <td>0</td>\n",
       "      <td>+</td>\n",
       "    </tr>\n",
       "    <tr>\n",
       "      <td>1</td>\n",
       "      <td>a</td>\n",
       "      <td>58.67</td>\n",
       "      <td>4.460</td>\n",
       "      <td>u</td>\n",
       "      <td>...</td>\n",
       "      <td>g</td>\n",
       "      <td>00043</td>\n",
       "      <td>560</td>\n",
       "      <td>+</td>\n",
       "    </tr>\n",
       "    <tr>\n",
       "      <td>2</td>\n",
       "      <td>a</td>\n",
       "      <td>24.50</td>\n",
       "      <td>0.500</td>\n",
       "      <td>u</td>\n",
       "      <td>...</td>\n",
       "      <td>g</td>\n",
       "      <td>00280</td>\n",
       "      <td>824</td>\n",
       "      <td>+</td>\n",
       "    </tr>\n",
       "    <tr>\n",
       "      <td>3</td>\n",
       "      <td>b</td>\n",
       "      <td>27.83</td>\n",
       "      <td>1.540</td>\n",
       "      <td>u</td>\n",
       "      <td>...</td>\n",
       "      <td>g</td>\n",
       "      <td>00100</td>\n",
       "      <td>3</td>\n",
       "      <td>+</td>\n",
       "    </tr>\n",
       "    <tr>\n",
       "      <td>4</td>\n",
       "      <td>b</td>\n",
       "      <td>20.17</td>\n",
       "      <td>5.625</td>\n",
       "      <td>u</td>\n",
       "      <td>...</td>\n",
       "      <td>s</td>\n",
       "      <td>00120</td>\n",
       "      <td>0</td>\n",
       "      <td>+</td>\n",
       "    </tr>\n",
       "    <tr>\n",
       "      <td>5</td>\n",
       "      <td>b</td>\n",
       "      <td>32.08</td>\n",
       "      <td>4.000</td>\n",
       "      <td>u</td>\n",
       "      <td>...</td>\n",
       "      <td>g</td>\n",
       "      <td>00360</td>\n",
       "      <td>0</td>\n",
       "      <td>+</td>\n",
       "    </tr>\n",
       "    <tr>\n",
       "      <td>6</td>\n",
       "      <td>b</td>\n",
       "      <td>33.17</td>\n",
       "      <td>1.040</td>\n",
       "      <td>u</td>\n",
       "      <td>...</td>\n",
       "      <td>g</td>\n",
       "      <td>00164</td>\n",
       "      <td>31285</td>\n",
       "      <td>+</td>\n",
       "    </tr>\n",
       "    <tr>\n",
       "      <td>7</td>\n",
       "      <td>a</td>\n",
       "      <td>22.92</td>\n",
       "      <td>11.585</td>\n",
       "      <td>u</td>\n",
       "      <td>...</td>\n",
       "      <td>g</td>\n",
       "      <td>00080</td>\n",
       "      <td>1349</td>\n",
       "      <td>+</td>\n",
       "    </tr>\n",
       "    <tr>\n",
       "      <td>8</td>\n",
       "      <td>b</td>\n",
       "      <td>54.42</td>\n",
       "      <td>0.500</td>\n",
       "      <td>y</td>\n",
       "      <td>...</td>\n",
       "      <td>g</td>\n",
       "      <td>00180</td>\n",
       "      <td>314</td>\n",
       "      <td>+</td>\n",
       "    </tr>\n",
       "    <tr>\n",
       "      <td>9</td>\n",
       "      <td>b</td>\n",
       "      <td>42.50</td>\n",
       "      <td>4.915</td>\n",
       "      <td>y</td>\n",
       "      <td>...</td>\n",
       "      <td>g</td>\n",
       "      <td>00052</td>\n",
       "      <td>1442</td>\n",
       "      <td>+</td>\n",
       "    </tr>\n",
       "  </tbody>\n",
       "</table>\n",
       "<p>10 rows × 16 columns</p>\n",
       "</div>"
      ],
      "text/plain": [
       "  0      1       2  3   ... 12     13     14  15\n",
       "0  b  30.83   0.000  u  ...  g  00202      0   +\n",
       "1  a  58.67   4.460  u  ...  g  00043    560   +\n",
       "2  a  24.50   0.500  u  ...  g  00280    824   +\n",
       "3  b  27.83   1.540  u  ...  g  00100      3   +\n",
       "4  b  20.17   5.625  u  ...  s  00120      0   +\n",
       "5  b  32.08   4.000  u  ...  g  00360      0   +\n",
       "6  b  33.17   1.040  u  ...  g  00164  31285   +\n",
       "7  a  22.92  11.585  u  ...  g  00080   1349   +\n",
       "8  b  54.42   0.500  y  ...  g  00180    314   +\n",
       "9  b  42.50   4.915  y  ...  g  00052   1442   +\n",
       "\n",
       "[10 rows x 16 columns]"
      ]
     },
     "execution_count": 279,
     "metadata": {},
     "output_type": "execute_result"
    }
   ],
   "source": [
    "credit = pd.read_csv(\"datasets/crx.data\", header = None)\n",
    "print(credit.shape)\n",
    "credit.head(10)"
   ]
  },
  {
   "cell_type": "code",
   "execution_count": 280,
   "metadata": {},
   "outputs": [
    {
     "data": {
      "text/plain": [
       "0      object\n",
       "1      object\n",
       "2     float64\n",
       "3      object\n",
       "4      object\n",
       "5      object\n",
       "6      object\n",
       "7     float64\n",
       "8      object\n",
       "9      object\n",
       "10      int64\n",
       "11     object\n",
       "12     object\n",
       "13     object\n",
       "14      int64\n",
       "15     object\n",
       "dtype: object"
      ]
     },
     "execution_count": 280,
     "metadata": {},
     "output_type": "execute_result"
    }
   ],
   "source": [
    "credit.dtypes"
   ]
  },
  {
   "cell_type": "code",
   "execution_count": 281,
   "metadata": {},
   "outputs": [
    {
     "data": {
      "text/plain": [
       "0"
      ]
     },
     "execution_count": 281,
     "metadata": {},
     "output_type": "execute_result"
    }
   ],
   "source": [
    "credit.isnull().values.sum()"
   ]
  },
  {
   "cell_type": "markdown",
   "metadata": {},
   "source": [
    "The dataset is not clean. For example, the column 1 has an object type but the values are numerical. Since we only have 16 columns, we can have a glance of every column to see what we should be looking for in the cleanning phase using a loop. \n",
    "\n",
    "The loop prints the first 20 unique elements of every column."
   ]
  },
  {
   "cell_type": "code",
   "execution_count": 282,
   "metadata": {
    "scrolled": false
   },
   "outputs": [
    {
     "name": "stdout",
     "output_type": "stream",
     "text": [
      "['b' 'a' '?']\n",
      "['30.83' '58.67' '24.50' '27.83' '20.17' '32.08' '33.17' '22.92' '54.42'\n",
      " '42.50' '22.08' '29.92' '38.25' '48.08' '45.83' '36.67' '28.25' '23.25'\n",
      " '21.83' '19.17']\n",
      "[ 0.     4.46   0.5    1.54   5.625  4.     1.04  11.585  4.915  0.83\n",
      "  1.835  6.     6.04  10.5    4.415  0.875  5.875  0.25   8.585 11.25 ]\n",
      "['u' 'y' '?' 'l']\n",
      "['g' 'p' '?' 'gg']\n",
      "['w' 'q' 'm' 'r' 'cc' 'k' 'c' 'd' 'x' 'i' 'e' 'aa' 'ff' 'j' '?']\n",
      "['v' 'h' 'bb' 'ff' 'j' 'z' '?' 'o' 'dd' 'n']\n",
      "[1.25  3.04  1.5   3.75  1.71  2.5   6.5   0.04  3.96  3.165 2.165 4.335\n",
      " 1.    5.    0.25  0.96  3.17  0.665 0.75  0.835]\n",
      "['t' 'f']\n",
      "['t' 'f']\n",
      "[ 1  6  0  5  7 10  3 17  2  9  8 15 11 12 40 23  4 20 67 14]\n",
      "['f' 't']\n",
      "['g' 's' 'p']\n",
      "['00202' '00043' '00280' '00100' '00120' '00360' '00164' '00080' '00180'\n",
      " '00052' '00128' '00260' '00000' '00320' '00396' '00096' '00200' '00300'\n",
      " '00145' '00500']\n",
      "[    0   560   824     3 31285  1349   314  1442   200  2690   245  1208\n",
      "  1260    11 10000  5000  4000    35   713   551]\n",
      "['+' '-']\n"
     ]
    }
   ],
   "source": [
    "for i in range(0,len(credit.columns)): print(credit[i].unique()[:20])"
   ]
  },
  {
   "cell_type": "markdown",
   "metadata": {},
   "source": [
    "Apparently, the symbol ? is missing values"
   ]
  },
  {
   "cell_type": "markdown",
   "metadata": {},
   "source": [
    "# 2. Cleaning the data"
   ]
  },
  {
   "cell_type": "code",
   "execution_count": 283,
   "metadata": {},
   "outputs": [],
   "source": [
    "# Change column names\n",
    "column_names = [\n",
    "\"Gender\",\n",
    "\"Age\",\n",
    "\"Debt\",\n",
    "\"Married\", \n",
    "\"BankCustomer\",\n",
    "\"EducationLevel\", \n",
    "\"Ethnicity\",\n",
    "\"YearsEmployed\", \n",
    "\"PriorDefault\", \n",
    "\"Employed\",\n",
    "\"CreditScore\",\n",
    "\"DriversLicense\", \n",
    "\"Citizen\",\n",
    "\"ZipCode\",\n",
    "\"Income\",\n",
    "\"ApprovalStatus\"]\n",
    "\n",
    "credit.columns = column_names"
   ]
  },
  {
   "cell_type": "code",
   "execution_count": 284,
   "metadata": {},
   "outputs": [],
   "source": [
    "# Correct format for missing values\n",
    "credit = credit.replace(\"?\", np.nan)"
   ]
  },
  {
   "cell_type": "code",
   "execution_count": 285,
   "metadata": {
    "scrolled": true
   },
   "outputs": [
    {
     "data": {
      "text/plain": [
       "Gender             object\n",
       "Age                object\n",
       "Debt              float64\n",
       "Married            object\n",
       "BankCustomer       object\n",
       "EducationLevel     object\n",
       "Ethnicity          object\n",
       "YearsEmployed     float64\n",
       "PriorDefault       object\n",
       "Employed           object\n",
       "CreditScore         int64\n",
       "DriversLicense     object\n",
       "Citizen            object\n",
       "ZipCode            object\n",
       "Income              int64\n",
       "ApprovalStatus     object\n",
       "dtype: object"
      ]
     },
     "execution_count": 285,
     "metadata": {},
     "output_type": "execute_result"
    }
   ],
   "source": [
    "# Check categorical and numerical columns have the proper format. Most are categories.\n",
    "credit.dtypes"
   ]
  },
  {
   "cell_type": "code",
   "execution_count": 286,
   "metadata": {
    "scrolled": true
   },
   "outputs": [
    {
     "name": "stdout",
     "output_type": "stream",
     "text": [
      "Gender            12\n",
      "Age               12\n",
      "Debt               0\n",
      "Married            6\n",
      "BankCustomer       6\n",
      "EducationLevel     9\n",
      "Ethnicity          9\n",
      "YearsEmployed      0\n",
      "PriorDefault       0\n",
      "Employed           0\n",
      "CreditScore        0\n",
      "DriversLicense     0\n",
      "Citizen            0\n",
      "ZipCode           13\n",
      "Income             0\n",
      "ApprovalStatus     0\n",
      "dtype: int64\n",
      "Total missing values: 67\n"
     ]
    }
   ],
   "source": [
    "# Replace ? with correct label\n",
    "credit = credit.replace(\"?\", np.nan)\n",
    "# Missing values by column\n",
    "print(credit.isnull().sum())\n",
    "# Total missing values after inputation\n",
    "print(\"Total missing values:\", credit.isnull().values.sum())"
   ]
  },
  {
   "cell_type": "markdown",
   "metadata": {},
   "source": [
    "To fill the rest of the missing data depending on the type of the column we create a \"fillnan\" function that will fill the \"nans\" values with the mean of the values of the column if its numerical, and with the most usual value if the column is categorical."
   ]
  },
  {
   "cell_type": "code",
   "execution_count": 287,
   "metadata": {},
   "outputs": [],
   "source": [
    "# Only display 8 columns, not the 15.\n",
    "pd.set_option('display.max_columns', 8)"
   ]
  },
  {
   "cell_type": "code",
   "execution_count": 288,
   "metadata": {},
   "outputs": [],
   "source": [
    "def fillnans(dataset):\n",
    "    \"\"\"\n",
    "    For every column in the dataset:\n",
    "    - If it's numerical fill with the mean.\n",
    "    - If it's categorical fill with the most usual value.\n",
    "    \"\"\"\n",
    "    for i in dataset.columns:\n",
    "        if dataset[i].dtypes == 'float64':\n",
    "            dataset.fillna(dataset.mean(), inplace = True)\n",
    "        if dataset[i].dtypes == 'int64':\n",
    "            dataset.fillna(dataset.mean(), inplace = True)\n",
    "        if dataset[i].dtypes == 'object':\n",
    "            dataset[i].fillna(dataset[i].value_counts().index[0], inplace = True)\n",
    "    \n",
    "    return dataset\n",
    "        "
   ]
  },
  {
   "cell_type": "code",
   "execution_count": 289,
   "metadata": {},
   "outputs": [
    {
     "data": {
      "text/html": [
       "<div>\n",
       "<style scoped>\n",
       "    .dataframe tbody tr th:only-of-type {\n",
       "        vertical-align: middle;\n",
       "    }\n",
       "\n",
       "    .dataframe tbody tr th {\n",
       "        vertical-align: top;\n",
       "    }\n",
       "\n",
       "    .dataframe thead th {\n",
       "        text-align: right;\n",
       "    }\n",
       "</style>\n",
       "<table border=\"1\" class=\"dataframe\">\n",
       "  <thead>\n",
       "    <tr style=\"text-align: right;\">\n",
       "      <th></th>\n",
       "      <th>Gender</th>\n",
       "      <th>Age</th>\n",
       "      <th>Debt</th>\n",
       "      <th>Married</th>\n",
       "      <th>...</th>\n",
       "      <th>Citizen</th>\n",
       "      <th>ZipCode</th>\n",
       "      <th>Income</th>\n",
       "      <th>ApprovalStatus</th>\n",
       "    </tr>\n",
       "  </thead>\n",
       "  <tbody>\n",
       "    <tr>\n",
       "      <td>0</td>\n",
       "      <td>b</td>\n",
       "      <td>30.83</td>\n",
       "      <td>0.000</td>\n",
       "      <td>u</td>\n",
       "      <td>...</td>\n",
       "      <td>g</td>\n",
       "      <td>00202</td>\n",
       "      <td>0</td>\n",
       "      <td>+</td>\n",
       "    </tr>\n",
       "    <tr>\n",
       "      <td>1</td>\n",
       "      <td>a</td>\n",
       "      <td>58.67</td>\n",
       "      <td>4.460</td>\n",
       "      <td>u</td>\n",
       "      <td>...</td>\n",
       "      <td>g</td>\n",
       "      <td>00043</td>\n",
       "      <td>560</td>\n",
       "      <td>+</td>\n",
       "    </tr>\n",
       "    <tr>\n",
       "      <td>2</td>\n",
       "      <td>a</td>\n",
       "      <td>24.50</td>\n",
       "      <td>0.500</td>\n",
       "      <td>u</td>\n",
       "      <td>...</td>\n",
       "      <td>g</td>\n",
       "      <td>00280</td>\n",
       "      <td>824</td>\n",
       "      <td>+</td>\n",
       "    </tr>\n",
       "    <tr>\n",
       "      <td>3</td>\n",
       "      <td>b</td>\n",
       "      <td>27.83</td>\n",
       "      <td>1.540</td>\n",
       "      <td>u</td>\n",
       "      <td>...</td>\n",
       "      <td>g</td>\n",
       "      <td>00100</td>\n",
       "      <td>3</td>\n",
       "      <td>+</td>\n",
       "    </tr>\n",
       "    <tr>\n",
       "      <td>4</td>\n",
       "      <td>b</td>\n",
       "      <td>20.17</td>\n",
       "      <td>5.625</td>\n",
       "      <td>u</td>\n",
       "      <td>...</td>\n",
       "      <td>s</td>\n",
       "      <td>00120</td>\n",
       "      <td>0</td>\n",
       "      <td>+</td>\n",
       "    </tr>\n",
       "    <tr>\n",
       "      <td>...</td>\n",
       "      <td>...</td>\n",
       "      <td>...</td>\n",
       "      <td>...</td>\n",
       "      <td>...</td>\n",
       "      <td>...</td>\n",
       "      <td>...</td>\n",
       "      <td>...</td>\n",
       "      <td>...</td>\n",
       "      <td>...</td>\n",
       "    </tr>\n",
       "    <tr>\n",
       "      <td>685</td>\n",
       "      <td>b</td>\n",
       "      <td>21.08</td>\n",
       "      <td>10.085</td>\n",
       "      <td>y</td>\n",
       "      <td>...</td>\n",
       "      <td>g</td>\n",
       "      <td>00260</td>\n",
       "      <td>0</td>\n",
       "      <td>-</td>\n",
       "    </tr>\n",
       "    <tr>\n",
       "      <td>686</td>\n",
       "      <td>a</td>\n",
       "      <td>22.67</td>\n",
       "      <td>0.750</td>\n",
       "      <td>u</td>\n",
       "      <td>...</td>\n",
       "      <td>g</td>\n",
       "      <td>00200</td>\n",
       "      <td>394</td>\n",
       "      <td>-</td>\n",
       "    </tr>\n",
       "    <tr>\n",
       "      <td>687</td>\n",
       "      <td>a</td>\n",
       "      <td>25.25</td>\n",
       "      <td>13.500</td>\n",
       "      <td>y</td>\n",
       "      <td>...</td>\n",
       "      <td>g</td>\n",
       "      <td>00200</td>\n",
       "      <td>1</td>\n",
       "      <td>-</td>\n",
       "    </tr>\n",
       "    <tr>\n",
       "      <td>688</td>\n",
       "      <td>b</td>\n",
       "      <td>17.92</td>\n",
       "      <td>0.205</td>\n",
       "      <td>u</td>\n",
       "      <td>...</td>\n",
       "      <td>g</td>\n",
       "      <td>00280</td>\n",
       "      <td>750</td>\n",
       "      <td>-</td>\n",
       "    </tr>\n",
       "    <tr>\n",
       "      <td>689</td>\n",
       "      <td>b</td>\n",
       "      <td>35.00</td>\n",
       "      <td>3.375</td>\n",
       "      <td>u</td>\n",
       "      <td>...</td>\n",
       "      <td>g</td>\n",
       "      <td>00000</td>\n",
       "      <td>0</td>\n",
       "      <td>-</td>\n",
       "    </tr>\n",
       "  </tbody>\n",
       "</table>\n",
       "<p>690 rows × 16 columns</p>\n",
       "</div>"
      ],
      "text/plain": [
       "    Gender    Age    Debt Married  ... Citizen ZipCode Income  ApprovalStatus\n",
       "0        b  30.83   0.000       u  ...       g   00202      0               +\n",
       "1        a  58.67   4.460       u  ...       g   00043    560               +\n",
       "2        a  24.50   0.500       u  ...       g   00280    824               +\n",
       "3        b  27.83   1.540       u  ...       g   00100      3               +\n",
       "4        b  20.17   5.625       u  ...       s   00120      0               +\n",
       "..     ...    ...     ...     ...  ...     ...     ...    ...             ...\n",
       "685      b  21.08  10.085       y  ...       g   00260      0               -\n",
       "686      a  22.67   0.750       u  ...       g   00200    394               -\n",
       "687      a  25.25  13.500       y  ...       g   00200      1               -\n",
       "688      b  17.92   0.205       u  ...       g   00280    750               -\n",
       "689      b  35.00   3.375       u  ...       g   00000      0               -\n",
       "\n",
       "[690 rows x 16 columns]"
      ]
     },
     "execution_count": 289,
     "metadata": {},
     "output_type": "execute_result"
    }
   ],
   "source": [
    "fillnans(credit)"
   ]
  },
  {
   "cell_type": "code",
   "execution_count": 290,
   "metadata": {
    "scrolled": true
   },
   "outputs": [
    {
     "name": "stdout",
     "output_type": "stream",
     "text": [
      "Total missing values after fillnans: 0\n"
     ]
    }
   ],
   "source": [
    "print(\"Total missing values after fillnans:\", credit.isnull().values.sum())"
   ]
  },
  {
   "cell_type": "markdown",
   "metadata": {},
   "source": [
    "# 3. Preprocesing"
   ]
  },
  {
   "cell_type": "markdown",
   "metadata": {},
   "source": [
    "Most of the algorithms are really picky with transforming your object columns to numerical. I will use sklearn label encoder to \"hot encode\" the categories: simply label every category (a,b,u,g,v...) in the object columns with a different integer. \n"
   ]
  },
  {
   "cell_type": "code",
   "execution_count": 291,
   "metadata": {},
   "outputs": [
    {
     "name": "stdout",
     "output_type": "stream",
     "text": [
      "Before the preprocessing, the data values looks like this:\n"
     ]
    },
    {
     "data": {
      "text/html": [
       "<div>\n",
       "<style scoped>\n",
       "    .dataframe tbody tr th:only-of-type {\n",
       "        vertical-align: middle;\n",
       "    }\n",
       "\n",
       "    .dataframe tbody tr th {\n",
       "        vertical-align: top;\n",
       "    }\n",
       "\n",
       "    .dataframe thead th {\n",
       "        text-align: right;\n",
       "    }\n",
       "</style>\n",
       "<table border=\"1\" class=\"dataframe\">\n",
       "  <thead>\n",
       "    <tr style=\"text-align: right;\">\n",
       "      <th></th>\n",
       "      <th>Gender</th>\n",
       "      <th>Age</th>\n",
       "      <th>Debt</th>\n",
       "      <th>Married</th>\n",
       "      <th>...</th>\n",
       "      <th>Citizen</th>\n",
       "      <th>ZipCode</th>\n",
       "      <th>Income</th>\n",
       "      <th>ApprovalStatus</th>\n",
       "    </tr>\n",
       "  </thead>\n",
       "  <tbody>\n",
       "    <tr>\n",
       "      <td>0</td>\n",
       "      <td>b</td>\n",
       "      <td>30.83</td>\n",
       "      <td>0.000</td>\n",
       "      <td>u</td>\n",
       "      <td>...</td>\n",
       "      <td>g</td>\n",
       "      <td>00202</td>\n",
       "      <td>0</td>\n",
       "      <td>+</td>\n",
       "    </tr>\n",
       "    <tr>\n",
       "      <td>1</td>\n",
       "      <td>a</td>\n",
       "      <td>58.67</td>\n",
       "      <td>4.460</td>\n",
       "      <td>u</td>\n",
       "      <td>...</td>\n",
       "      <td>g</td>\n",
       "      <td>00043</td>\n",
       "      <td>560</td>\n",
       "      <td>+</td>\n",
       "    </tr>\n",
       "    <tr>\n",
       "      <td>2</td>\n",
       "      <td>a</td>\n",
       "      <td>24.50</td>\n",
       "      <td>0.500</td>\n",
       "      <td>u</td>\n",
       "      <td>...</td>\n",
       "      <td>g</td>\n",
       "      <td>00280</td>\n",
       "      <td>824</td>\n",
       "      <td>+</td>\n",
       "    </tr>\n",
       "    <tr>\n",
       "      <td>3</td>\n",
       "      <td>b</td>\n",
       "      <td>27.83</td>\n",
       "      <td>1.540</td>\n",
       "      <td>u</td>\n",
       "      <td>...</td>\n",
       "      <td>g</td>\n",
       "      <td>00100</td>\n",
       "      <td>3</td>\n",
       "      <td>+</td>\n",
       "    </tr>\n",
       "    <tr>\n",
       "      <td>4</td>\n",
       "      <td>b</td>\n",
       "      <td>20.17</td>\n",
       "      <td>5.625</td>\n",
       "      <td>u</td>\n",
       "      <td>...</td>\n",
       "      <td>s</td>\n",
       "      <td>00120</td>\n",
       "      <td>0</td>\n",
       "      <td>+</td>\n",
       "    </tr>\n",
       "  </tbody>\n",
       "</table>\n",
       "<p>5 rows × 16 columns</p>\n",
       "</div>"
      ],
      "text/plain": [
       "  Gender    Age   Debt Married  ... Citizen ZipCode Income  ApprovalStatus\n",
       "0      b  30.83  0.000       u  ...       g   00202      0               +\n",
       "1      a  58.67  4.460       u  ...       g   00043    560               +\n",
       "2      a  24.50  0.500       u  ...       g   00280    824               +\n",
       "3      b  27.83  1.540       u  ...       g   00100      3               +\n",
       "4      b  20.17  5.625       u  ...       s   00120      0               +\n",
       "\n",
       "[5 rows x 16 columns]"
      ]
     },
     "execution_count": 291,
     "metadata": {},
     "output_type": "execute_result"
    }
   ],
   "source": [
    "print(\"Before the preprocessing, the data values looks like this:\")\n",
    "credit.head()"
   ]
  },
  {
   "cell_type": "code",
   "execution_count": 292,
   "metadata": {},
   "outputs": [],
   "source": [
    "def objectransform(dataset):\n",
    "    # Import encoder\n",
    "    from sklearn import preprocessing\n",
    "    le = preprocessing.LabelEncoder()\n",
    "    # Apply encoder to object columns\n",
    "    for i in dataset.columns:\n",
    "        if dataset[i].dtypes == 'object':\n",
    "            dataset[i] = le.fit_transform(dataset[i])\n",
    "            \n",
    "    return dataset"
   ]
  },
  {
   "cell_type": "code",
   "execution_count": 293,
   "metadata": {
    "scrolled": true
   },
   "outputs": [
    {
     "data": {
      "text/html": [
       "<div>\n",
       "<style scoped>\n",
       "    .dataframe tbody tr th:only-of-type {\n",
       "        vertical-align: middle;\n",
       "    }\n",
       "\n",
       "    .dataframe tbody tr th {\n",
       "        vertical-align: top;\n",
       "    }\n",
       "\n",
       "    .dataframe thead th {\n",
       "        text-align: right;\n",
       "    }\n",
       "</style>\n",
       "<table border=\"1\" class=\"dataframe\">\n",
       "  <thead>\n",
       "    <tr style=\"text-align: right;\">\n",
       "      <th></th>\n",
       "      <th>Gender</th>\n",
       "      <th>Age</th>\n",
       "      <th>Debt</th>\n",
       "      <th>Married</th>\n",
       "      <th>...</th>\n",
       "      <th>Citizen</th>\n",
       "      <th>ZipCode</th>\n",
       "      <th>Income</th>\n",
       "      <th>ApprovalStatus</th>\n",
       "    </tr>\n",
       "  </thead>\n",
       "  <tbody>\n",
       "    <tr>\n",
       "      <td>0</td>\n",
       "      <td>1</td>\n",
       "      <td>156</td>\n",
       "      <td>0.000</td>\n",
       "      <td>1</td>\n",
       "      <td>...</td>\n",
       "      <td>0</td>\n",
       "      <td>68</td>\n",
       "      <td>0</td>\n",
       "      <td>0</td>\n",
       "    </tr>\n",
       "    <tr>\n",
       "      <td>1</td>\n",
       "      <td>0</td>\n",
       "      <td>328</td>\n",
       "      <td>4.460</td>\n",
       "      <td>1</td>\n",
       "      <td>...</td>\n",
       "      <td>0</td>\n",
       "      <td>11</td>\n",
       "      <td>560</td>\n",
       "      <td>0</td>\n",
       "    </tr>\n",
       "    <tr>\n",
       "      <td>2</td>\n",
       "      <td>0</td>\n",
       "      <td>89</td>\n",
       "      <td>0.500</td>\n",
       "      <td>1</td>\n",
       "      <td>...</td>\n",
       "      <td>0</td>\n",
       "      <td>96</td>\n",
       "      <td>824</td>\n",
       "      <td>0</td>\n",
       "    </tr>\n",
       "    <tr>\n",
       "      <td>3</td>\n",
       "      <td>1</td>\n",
       "      <td>125</td>\n",
       "      <td>1.540</td>\n",
       "      <td>1</td>\n",
       "      <td>...</td>\n",
       "      <td>0</td>\n",
       "      <td>31</td>\n",
       "      <td>3</td>\n",
       "      <td>0</td>\n",
       "    </tr>\n",
       "    <tr>\n",
       "      <td>4</td>\n",
       "      <td>1</td>\n",
       "      <td>43</td>\n",
       "      <td>5.625</td>\n",
       "      <td>1</td>\n",
       "      <td>...</td>\n",
       "      <td>2</td>\n",
       "      <td>37</td>\n",
       "      <td>0</td>\n",
       "      <td>0</td>\n",
       "    </tr>\n",
       "    <tr>\n",
       "      <td>...</td>\n",
       "      <td>...</td>\n",
       "      <td>...</td>\n",
       "      <td>...</td>\n",
       "      <td>...</td>\n",
       "      <td>...</td>\n",
       "      <td>...</td>\n",
       "      <td>...</td>\n",
       "      <td>...</td>\n",
       "      <td>...</td>\n",
       "    </tr>\n",
       "    <tr>\n",
       "      <td>685</td>\n",
       "      <td>1</td>\n",
       "      <td>52</td>\n",
       "      <td>10.085</td>\n",
       "      <td>2</td>\n",
       "      <td>...</td>\n",
       "      <td>0</td>\n",
       "      <td>90</td>\n",
       "      <td>0</td>\n",
       "      <td>1</td>\n",
       "    </tr>\n",
       "    <tr>\n",
       "      <td>686</td>\n",
       "      <td>0</td>\n",
       "      <td>71</td>\n",
       "      <td>0.750</td>\n",
       "      <td>1</td>\n",
       "      <td>...</td>\n",
       "      <td>0</td>\n",
       "      <td>67</td>\n",
       "      <td>394</td>\n",
       "      <td>1</td>\n",
       "    </tr>\n",
       "    <tr>\n",
       "      <td>687</td>\n",
       "      <td>0</td>\n",
       "      <td>97</td>\n",
       "      <td>13.500</td>\n",
       "      <td>2</td>\n",
       "      <td>...</td>\n",
       "      <td>0</td>\n",
       "      <td>67</td>\n",
       "      <td>1</td>\n",
       "      <td>1</td>\n",
       "    </tr>\n",
       "    <tr>\n",
       "      <td>688</td>\n",
       "      <td>1</td>\n",
       "      <td>20</td>\n",
       "      <td>0.205</td>\n",
       "      <td>1</td>\n",
       "      <td>...</td>\n",
       "      <td>0</td>\n",
       "      <td>96</td>\n",
       "      <td>750</td>\n",
       "      <td>1</td>\n",
       "    </tr>\n",
       "    <tr>\n",
       "      <td>689</td>\n",
       "      <td>1</td>\n",
       "      <td>197</td>\n",
       "      <td>3.375</td>\n",
       "      <td>1</td>\n",
       "      <td>...</td>\n",
       "      <td>0</td>\n",
       "      <td>0</td>\n",
       "      <td>0</td>\n",
       "      <td>1</td>\n",
       "    </tr>\n",
       "  </tbody>\n",
       "</table>\n",
       "<p>690 rows × 16 columns</p>\n",
       "</div>"
      ],
      "text/plain": [
       "     Gender  Age    Debt  Married  ...  Citizen  ZipCode  Income  \\\n",
       "0         1  156   0.000        1  ...        0       68       0   \n",
       "1         0  328   4.460        1  ...        0       11     560   \n",
       "2         0   89   0.500        1  ...        0       96     824   \n",
       "3         1  125   1.540        1  ...        0       31       3   \n",
       "4         1   43   5.625        1  ...        2       37       0   \n",
       "..      ...  ...     ...      ...  ...      ...      ...     ...   \n",
       "685       1   52  10.085        2  ...        0       90       0   \n",
       "686       0   71   0.750        1  ...        0       67     394   \n",
       "687       0   97  13.500        2  ...        0       67       1   \n",
       "688       1   20   0.205        1  ...        0       96     750   \n",
       "689       1  197   3.375        1  ...        0        0       0   \n",
       "\n",
       "     ApprovalStatus  \n",
       "0                 0  \n",
       "1                 0  \n",
       "2                 0  \n",
       "3                 0  \n",
       "4                 0  \n",
       "..              ...  \n",
       "685               1  \n",
       "686               1  \n",
       "687               1  \n",
       "688               1  \n",
       "689               1  \n",
       "\n",
       "[690 rows x 16 columns]"
      ]
     },
     "execution_count": 293,
     "metadata": {},
     "output_type": "execute_result"
    }
   ],
   "source": [
    "objectransform(credit)"
   ]
  },
  {
   "cell_type": "markdown",
   "metadata": {},
   "source": [
    "After the hot encoding every different category inside every column is transformed to a integer."
   ]
  },
  {
   "cell_type": "markdown",
   "metadata": {},
   "source": [
    "# 4. Basic Data Visualization"
   ]
  },
  {
   "cell_type": "code",
   "execution_count": 294,
   "metadata": {},
   "outputs": [],
   "source": [
    "def heatmap(dataset):\n",
    "    \"\"\"\n",
    "    It assumes that the target is in the last column\n",
    "    \"\"\"\n",
    "    # Features only\n",
    "    features_corr = dataset.iloc[:,0:-1].corr()\n",
    "    # Heatmap\n",
    "    plt.figure(figsize=(16, 6))\n",
    "    mask = np.triu(np.ones_like(features_corr, dtype=np.bool))\n",
    "    heatmap = sns.heatmap(features_corr,\n",
    "                          mask = mask,\n",
    "                          vmin=-1, vmax=1, \n",
    "                          annot=True,\n",
    "                          cmap='BrBG')\n",
    "    \n",
    "    heatmap.set_title('Feature Correlation Heatmap', fontdict={'fontsize':12}, pad=12);\n"
   ]
  },
  {
   "cell_type": "code",
   "execution_count": 295,
   "metadata": {
    "scrolled": true
   },
   "outputs": [
    {
     "data": {
      "image/png": "[encoded data removed]",
      "text/plain": [
       "<Figure size 1152x432 with 2 Axes>"
      ]
     },
     "metadata": {
      "needs_background": "light"
     },
     "output_type": "display_data"
    }
   ],
   "source": [
    "heatmap(credit)"
   ]
  },
  {
   "cell_type": "code",
   "execution_count": 296,
   "metadata": {},
   "outputs": [],
   "source": [
    "def heatmap_target(dataset):\n",
    "    \"\"\"\n",
    "    It assumes that the target is in the last column\n",
    "    \"\"\"\n",
    "    # Correlation with the target, sorted from more to less correlation\n",
    "    corr = dataset.corr().iloc[:, -1].sort_values(ascending=False)\n",
    "    # Correct the shape\n",
    "    corr = pd.DataFrame(corr).iloc[1:,:]\n",
    "    # Heatmap ranking\n",
    "    plt.figure(figsize=(8, 12))\n",
    "\n",
    "    heatmap = sns.heatmap(corr,\n",
    "                          vmin=-1, vmax=1, \n",
    "                          annot=True,\n",
    "                          cmap='bwr')\n",
    "    \n",
    "    heatmap.set_title('Features Correlation with {}'.format(credit.columns[-1]), \n",
    "                      fontdict={'fontsize':12}, pad=12);"
   ]
  },
  {
   "cell_type": "code",
   "execution_count": 297,
   "metadata": {},
   "outputs": [
    {
     "data": {
      "image/png": "[encoded data removed]",
      "text/plain": [
       "<Figure size 576x864 with 2 Axes>"
      ]
     },
     "metadata": {
      "needs_background": "light"
     },
     "output_type": "display_data"
    }
   ],
   "source": [
    "heatmap_target(credit)"
   ]
  },
  {
   "cell_type": "markdown",
   "metadata": {},
   "source": [
    "# 5. Modeling: Baseline Logistic Regression"
   ]
  },
  {
   "cell_type": "markdown",
   "metadata": {},
   "source": [
    "We have to change the DataFrames to arrays to be able to run the algorithms. We will use all the 15 features (X) to predict the credit card approval (y)."
   ]
  },
  {
   "cell_type": "code",
   "execution_count": 307,
   "metadata": {},
   "outputs": [
    {
     "name": "stdout",
     "output_type": "stream",
     "text": [
      "(690, 16)\n"
     ]
    }
   ],
   "source": [
    "# Dataframe in values format\n",
    "credit_values = credit.values\n",
    "print(credit.shape)\n",
    "# Columns 0 to 14 are features and 15 the target\n",
    "X, y = credit_values[:, 0:14], credit_values[:, -1]"
   ]
  },
  {
   "cell_type": "markdown",
   "metadata": {},
   "source": [
    "A basiline model has 2 main premises:\n",
    "    \n",
    "    1. Should be simple (less likely to overfit). \n",
    "    2. Should be interpretable (explainability will help for next models)\n",
    "    \n",
    "I will start with a simple linear Logistic Regression model rescaling feaures.\n",
    "\n",
    "Why I use linear logistic regression?\n",
    "\n",
    "    1. Our target variable (credit card approval) is binary.\n",
    "    \n",
    "    2. Linearity is most of the time the best approximation of the conditional expectation function. \n",
    "    \n",
    "    That is, if there is a relation between the features and the target, it most likely to be linear, and it does a good job predicting the expected value of the target conditional to their features attached. \n",
    "    \n",
    "    For example, the expected credit card approval conditional or being married, being 35 years old and a low credit score.\n",
    "    \n",
    "    3. The results are interpretable. For example, using the results we can calculate the how being a bank costumer or your gender increases or decreses your probability or getting a credit card approved. \n",
    "    \n",
    "Why I rescale the features?\n",
    "\n",
    "    1. Without rescaling, the model does not converge.\n",
    "    \n",
    "    2. It makes sense. The features are in different units (years education level, dollars of income, types of gender, credit scores...). With linear rescaling they are under the same range units, in this case 0 to 1.\n",
    "    "
   ]
  },
  {
   "cell_type": "markdown",
   "metadata": {},
   "source": [
    "The metric chosen is accuracy, defined as: \n",
    "    \n",
    "$$\\text{Accuracy} = \\frac{\\text{Number of correct predictions}}{\\text{Total number of predictions}}$$\n",
    "\n",
    "Accuracy alone doesn't tell the full story when you're working with a class-imbalanced data set. For example if all the credit card approval were rejected, then predicting always credit card denied would hold a 100% accuracy. However our data is not imbalanced, and have around 56% card application rejected and 44% accepted:"
   ]
  },
  {
   "cell_type": "code",
   "execution_count": 308,
   "metadata": {
    "scrolled": true
   },
   "outputs": [
    {
     "data": {
      "text/plain": [
       "1    383\n",
       "0    307\n",
       "Name: ApprovalStatus, dtype: int64"
      ]
     },
     "execution_count": 308,
     "metadata": {},
     "output_type": "execute_result"
    }
   ],
   "source": [
    "credit[\"ApprovalStatus\"].value_counts()"
   ]
  },
  {
   "cell_type": "markdown",
   "metadata": {},
   "source": [
    "Baseline regression. We run the first logistic regression scaled, using 2/3 of the labeled data to train the model and testing if it can predict the label of the resting 1/3:"
   ]
  },
  {
   "cell_type": "code",
   "execution_count": 309,
   "metadata": {},
   "outputs": [],
   "source": [
    "def run_logreg(test_size): \n",
    "    # Split into train and test sets\n",
    "    from sklearn.model_selection import train_test_split\n",
    "    # Split into train and test sets\n",
    "    X_train, X_test, y_train, y_test = train_test_split(X, y, \n",
    "                                                    test_size= test_size, \n",
    "                                                    random_state= 1234)\n",
    "    \n",
    "    \n",
    "    # Scale the features\n",
    "    from sklearn.preprocessing import MinMaxScaler\n",
    "    scaler = MinMaxScaler(feature_range = (0,1))\n",
    "    X_train_res = scaler.fit_transform(X_train)\n",
    "    X_test_res = scaler.fit_transform(X_test)\n",
    "\n",
    "    # Logistic regression\n",
    "    from sklearn.linear_model import LogisticRegression\n",
    "\n",
    "    ## Train the model\n",
    "    logreg = LogisticRegression()\n",
    "    logreg.fit(X_train_res, y_train)\n",
    "\n",
    "    ## Test the model\n",
    "    y_pred = logreg.predict(X_test_res)\n",
    "    print(\"Accuracy with {}% of test data\".format(round(test_size*100,0)), \"=\",\n",
    "          logreg.score(X_test_res, y_test))\n",
    "    "
   ]
  },
  {
   "cell_type": "code",
   "execution_count": 310,
   "metadata": {
    "scrolled": false
   },
   "outputs": [
    {
     "name": "stdout",
     "output_type": "stream",
     "text": [
      "Accuracy with 33.0% of test data = 0.8260869565217391\n"
     ]
    }
   ],
   "source": [
    "run_logreg(1/3)"
   ]
  },
  {
   "cell_type": "markdown",
   "metadata": {},
   "source": [
    "The algorithm is able to predict the approval or rejection of a credit card applicant only looking at their characteristics with 82.6% accuracy. Of the 228 credit profiles for the model to be tested (2/3 or the total 690 cases), it predicted correctly the approval or rejection 187 cases (82.6% of 228)."
   ]
  },
  {
   "cell_type": "markdown",
   "metadata": {},
   "source": [
    "We can play around with different proportions of train and test data to explore the case of overfitting (also refered as trade-off between variance and bias):"
   ]
  },
  {
   "cell_type": "code",
   "execution_count": 312,
   "metadata": {
    "scrolled": false
   },
   "outputs": [
    {
     "name": "stdout",
     "output_type": "stream",
     "text": [
      "Accuracy with 5.0% of test data = 0.9142857142857143\n",
      "Accuracy with 10.0% of test data = 0.8840579710144928\n",
      "Accuracy with 20.0% of test data = 0.8695652173913043\n",
      "Accuracy with 30.0% of test data = 0.8309178743961353\n",
      "Accuracy with 40.0% of test data = 0.855072463768116\n",
      "Accuracy with 50.0% of test data = 0.8405797101449275\n",
      "Accuracy with 60.0% of test data = 0.8478260869565217\n",
      "Accuracy with 70.0% of test data = 0.8426501035196687\n",
      "Accuracy with 80.0% of test data = 0.8351449275362319\n"
     ]
    }
   ],
   "source": [
    "for test_size in [0.05,0.1,0.2,0.3,0.4,0.5,0.6,0.7,0.8]:\n",
    "    run_logreg(test_size)"
   ]
  },
  {
   "cell_type": "markdown",
   "metadata": {},
   "source": [
    "In the test above, the logistic regression is 8% more precise splitting 5% of test data and 95% of train data than using 80% of test data and 20% of train data. \n",
    "\n",
    "The more the test size, the less train data the algorithm has to being able to \"learn\" the patterns that lead to the target. Therefore, is less accurate is predicting the feeded data. \n",
    "\n",
    "Despite that, the cost of using most of the data to train the model in small datasets like this one is that it overfits the model and it performs worse predicting new data. It learns so well the patterns of the current data that, when you introduce new data with some variations in the features, the algorithm does not know how to classify it well.\n",
    "\n",
    "We will deal with overfitting with performing a GridSearch that uses a different approach to split the data."
   ]
  },
  {
   "cell_type": "markdown",
   "metadata": {},
   "source": [
    "# 6. Modeling: GridSearchCV Logistic Regression "
   ]
  },
  {
   "cell_type": "markdown",
   "metadata": {},
   "source": [
    "Instead of seting a fix and unique split between the train and the test sample, the cross validation algorithm will do the split k times, applying the logistic regressions and the accuracy in every split. \n",
    "\n",
    "The average accuracy of the k tries will be the 'total' model accuracy.\n",
    "\n",
    "This method prevents overfitting because there is always a different blind proportion of the data that the algorithm does not use for trainning. Every split, different datapoints for training and test set, introducing feature variations. \n",
    "\n",
    "We also will perform a little bit of \"tuning\" proposing several hyperparameters values that the algorithm can choose from and pick the best ones. \n",
    "\n",
    "Visual representation of every split/iteration. The dots are datapoints, and the colors the labels. In the image we can se 4 iteration or splits with the same 1-to-4 proportion of test-to-train (5 dots test, 15 dots train)."
   ]
  },
  {
   "cell_type": "markdown",
   "metadata": {},
   "source": [
    "![image from wikipedia](crossval.jpg)"
   ]
  },
  {
   "cell_type": "code",
   "execution_count": 304,
   "metadata": {},
   "outputs": [],
   "source": [
    "def run_logreg(n_splits):\n",
    "    # Scale the training set\n",
    "    from sklearn.preprocessing import MinMaxScaler\n",
    "    scaler = MinMaxScaler(feature_range = (0,1))\n",
    "    X_res = scaler.fit_transform(X)\n",
    "\n",
    "\n",
    "    # Params to tune\n",
    "    params = {\n",
    "        'tol': [0.01, 0.001, 0.0001],\n",
    "        'max_iter': [100,150,200],\n",
    "        'C': [0.001,0.01,0.1,1,10,100,1000]}\n",
    "\n",
    "    # Grid search CV model\n",
    "    from sklearn.linear_model import LogisticRegression\n",
    "    from sklearn.model_selection import GridSearchCV\n",
    "\n",
    "    # Train model\n",
    "    grid_logreg = GridSearchCV(estimator = LogisticRegression(), \n",
    "                               param_grid = params,\n",
    "                               cv = n_splits)\n",
    "    grid_logreg_fit = grid_logreg.fit(X_res, y)\n",
    "\n",
    "    ## Test model\n",
    "    best_score  = grid_logreg.best_score_\n",
    "    best_params = grid_logreg_fit.best_params_\n",
    "\n",
    "    print(\"Accuracy with {} splits\".format(n_splits), \"=\", best_score, \n",
    "          \"using:\", best_params )"
   ]
  },
  {
   "cell_type": "code",
   "execution_count": 305,
   "metadata": {},
   "outputs": [
    {
     "name": "stdout",
     "output_type": "stream",
     "text": [
      "Accuracy with 2 splits = 0.8565217391304347 using: {'C': 1, 'max_iter': 100, 'tol': 0.01}\n",
      "Accuracy with 5 splits = 0.8492753623188405 using: {'C': 1, 'max_iter': 100, 'tol': 0.01}\n",
      "Accuracy with 10 splits = 0.8478260869565217 using: {'C': 0.1, 'max_iter': 100, 'tol': 0.01}\n",
      "Accuracy with 20 splits = 0.8523949579831933 using: {'C': 1, 'max_iter': 100, 'tol': 0.01}\n"
     ]
    }
   ],
   "source": [
    "for n_splits in [2,5,10,20]:\n",
    "    run_logreg(n_splits)"
   ]
  },
  {
   "cell_type": "markdown",
   "metadata": {},
   "source": [
    "With cross validation in this small toy-dataset we see that it doesn't really matter how many splits it does, as the algorithm quickly find a pattern to predict the target, but it is usually helpful to explore different split values in more difficult datasets with less features and less clear boundaries between good and bad credit card customers.\n",
    "\n",
    "Overall we have a model with around 85% accuracy avoiding overfitting. Thanks for reading! Find the link to the notebook below:"
   ]
  }
 ],
 "metadata": {
  "kernelspec": {
   "display_name": "Python 3",
   "language": "python",
   "name": "python3"
  },
  "language_info": {
   "codemirror_mode": {
    "name": "ipython",
    "version": 3
   },
   "file_extension": ".py",
   "mimetype": "text/x-python",
   "name": "python",
   "nbconvert_exporter": "python",
   "pygments_lexer": "ipython3",
   "version": "3.7.4"
  }
 },
 "nbformat": 4,
 "nbformat_minor": 2
}
